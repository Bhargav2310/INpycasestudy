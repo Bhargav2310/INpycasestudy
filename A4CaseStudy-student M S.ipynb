{
 "cells": [
  {
   "cell_type": "code",
   "execution_count": null,
   "metadata": {},
   "outputs": [],
   "source": []
  },
  {
   "cell_type": "code",
   "execution_count": 38,
   "metadata": {},
   "outputs": [
    {
     "name": "stdout",
     "output_type": "stream",
     "text": [
      "\n",
      "List after merging two classes:\n",
      "['Amit Sharma', 'Jaspal Singh', 'Shekhar Kumar', 'Yashoda Naik', 'Hiten Patel', 'Gauri Sharma', 'Chetan Nitave']\n",
      "\n",
      "After adding Priti Patil to class\n",
      "['Amit Sharma', 'Jaspal Singh', 'Shekhar Kumar', 'Yashoda Naik', 'Hiten Patel', 'Gauri Sharma', 'Chetan Nitave', 'Priti Patil']\n",
      "\n",
      "Total of Jaspal Singh is 65\n",
      "Percentage of Jaspal Singh is 13.0%\n",
      "\n",
      "Total of Jaspal Singh is 135\n",
      "Percentage of Jaspal Singh is 27.0%\n",
      "\n",
      "Total of Jaspal Singh is 215\n",
      "Percentage of Jaspal Singh is 43.0%\n",
      "\n",
      "Total of Jaspal Singh is 285\n",
      "Percentage of Jaspal Singh is 57.0%\n",
      "\n",
      "Total of Jaspal Singh is 345\n",
      "Percentage of Jaspal Singh is 69.0%\n",
      "Jaspal Singh is topper in Mathematics with 95 marks\n",
      "SINGH JASPAL\n"
     ]
    }
   ],
   "source": [
    "class_1 = ['Amit Sharma', 'Jaspal Singh','Shekhar Kumar', 'Yashoda Naik']\n",
    "class_2 = ['Hiten Patel', 'Gauri Sharma','Chetan Nitave']\n",
    "\n",
    "# Merging two classes into one class\n",
    "new_class = class_1 + class_2\n",
    "print('\\nList after merging two classes:',new_class, sep='\\n')\n",
    "\n",
    "# Adding student to new class\n",
    "new_class.append('Priti Patil')\n",
    "print('\\nAfter adding Priti Patil to class',new_class, sep='\\n')\n",
    "\n",
    "# Calculating total and percentage of Jaspal\n",
    "courses = {'math': 65,\n",
    "            'english': 70,\n",
    "            'history': 80,\n",
    "            'hindi': 70,\n",
    "            'science': 60 }\n",
    "total = 0\n",
    "for subject in courses :\n",
    "    total += courses[subject]\n",
    "    print('\\nTotal of Jaspal Singh is', total)\n",
    "    print('Percentage of Jaspal Singh is ', total /5, '%', sep='')\n",
    "\n",
    "# Finding the topper of Mathematics\n",
    "mathematics ={new_class[0]: 78,new_class[1]: 95,new_class[2]: 65,new_class[3]: 50,new_class[4]: 70,new_class[5]: 66,new_class[6]: 75,}\n",
    "topper = {\n",
    "    'name': new_class[0],\n",
    "    'marks': mathematics[new_class[0]]}\n",
    "for student in mathematics:\n",
    "    if mathematics[student] > topper['marks']:\n",
    "        topper['name'], topper['marks'] =student, mathematics[student]\n",
    "        print(f'{topper[\"name\"]} is topper in Mathematics with {topper[\"marks\"]} marks')\n",
    "\n",
    "# Printing name of topper\n",
    "first_name = topper['name'].split()[0]\n",
    "last_name = topper['name'].split()[-1]\n",
    "full_name = ' '.join([last_name, first_name])\n",
    "certificate_name = full_name.upper()\n",
    "print(certificate_name)"
   ]
  },
  {
   "cell_type": "code",
   "execution_count": null,
   "metadata": {},
   "outputs": [],
   "source": []
  },
  {
   "cell_type": "code",
   "execution_count": null,
   "metadata": {},
   "outputs": [],
   "source": []
  }
 ],
 "metadata": {
  "kernelspec": {
   "display_name": "Python 3",
   "language": "python",
   "name": "python3"
  },
  "language_info": {
   "codemirror_mode": {
    "name": "ipython",
    "version": 3
   },
   "file_extension": ".py",
   "mimetype": "text/x-python",
   "name": "python",
   "nbconvert_exporter": "python",
   "pygments_lexer": "ipython3",
   "version": "3.8.5"
  }
 },
 "nbformat": 4,
 "nbformat_minor": 4
}
